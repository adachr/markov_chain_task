{
 "cells": [
  {
   "cell_type": "code",
   "execution_count": 1,
   "metadata": {},
   "outputs": [],
   "source": [
    "import numpy as np"
   ]
  },
  {
   "cell_type": "code",
   "execution_count": 2,
   "metadata": {},
   "outputs": [],
   "source": [
    "def markow(macierz_p: list, s: int, t: int) -> list:\n",
    "    macierz_p = np.matrix(macierz_p)\n",
    "    \n",
    "    if macierz_p.shape[0] != macierz_p.shape[1]:\n",
    "        raise ValueError('Macierz przejścia nie jest kwadratowa')\n",
    "    \n",
    "    liczba_stanow = macierz_p.shape[0]\n",
    "    licznik_stanow = [0] * liczba_stanow\n",
    "    \n",
    "    # wyznaczenie rozkładu łańcucha Markowa po t krokach\n",
    "    result = []\n",
    "    ro_0 = macierz_p.A[s]\n",
    "    rozklad_po_t = ro_0 @ macierz_p**(t-1)\n",
    "    result.append(rozklad_po_t.A[0].round(2).tolist())\n",
    "    \n",
    "    # wyznaczenie częstości odwiedzin stanów po t krokach\n",
    "    for _ in range(t):\n",
    "        s = np.random.choice(liczba_stanow, 1, p=macierz_p.A[s])[0]\n",
    "        licznik_stanow[s] += 1.0\n",
    "    \n",
    "    czodw = [round((s / t), 2) for s in licznik_stanow]\n",
    "    result.append(czodw)\n",
    "    \n",
    "    return result"
   ]
  },
  {
   "cell_type": "code",
   "execution_count": 4,
   "metadata": {},
   "outputs": [
    {
     "name": "stdout",
     "output_type": "stream",
     "text": [
      "[[0.3, 0.5, 0.2], [0.28, 0.51, 0.21]]\n"
     ]
    }
   ],
   "source": [
    "print(markow([[0.5,0.5,0], [0.3,0.3,0.4], [0,1,0]], 0, 1000))"
   ]
  }
 ],
 "metadata": {
  "kernelspec": {
   "display_name": "tpi",
   "language": "python",
   "name": "tpi"
  },
  "language_info": {
   "codemirror_mode": {
    "name": "ipython",
    "version": 3
   },
   "file_extension": ".py",
   "mimetype": "text/x-python",
   "name": "python",
   "nbconvert_exporter": "python",
   "pygments_lexer": "ipython3",
   "version": "3.7.9"
  }
 },
 "nbformat": 4,
 "nbformat_minor": 2
}
